{
 "cells": [
  {
   "cell_type": "markdown",
   "metadata": {},
   "source": [
    "# Selenium Webscraping Tutorial\n",
    "\n",
    "#### Table of Contents\n",
    "\n",
    "1. <a href='##Introduction'>The Basics of Webscraping With Selenium</a> <br>\n",
    "> 1.a <a href='##package'>The Selenium package</a> <br>\n",
    "2. <a href='##example'>Webscraping Example</a> <br>\n",
    "> 2.a <a href='##browser'>Selenium headless browser</a> <br>\n",
    "> 2.b <a href='##find_elements'>Find elements using the Selenium Library</a> <br>\n",
    "> 2.c <a href='##click_scroll'>Clicking, scrolling, going back</a> <br>\n",
    "3. <a href='##scrolling_example'>Selenium scrolling example</a> <br>\n",
    "4. <a href='##links'>Iterating through all movie links</a> <br>"
   ]
  },
  {
   "cell_type": "markdown",
   "metadata": {},
   "source": [
    "<a id='#Introduction'></a>\n",
    "\n",
    "### The Basics of Webscraping with Selenium\n",
    "\n",
    "Selenium automates web browsering. Routine point-and-click tasks on websites can (and should) be handled programmatically, and Selenium provides us this capability. There are many use cases for Selenium that BeautifulSoup cannot handle. Programs that require scrolling to the bottom of a webpage, pointing and clicking on a button, or passing information into a search box are all perfect use cases for Selenium. Selenium has it's own HTML parsing functionality (which we'll examine), but it can also be used **in conjunction** with BeautifulSoup to load webpages, where BeautifulSoup can be called to parse the page. We will examine all of these use cases and more in the following demo.\n",
    "\n",
    "We'll be working in Python 3 for this tutorial, although Beautiful Soup runs for Python 2 with some simple adjustments to your code. Let's take a look at an example and see if we can get you up and running with parsing your own web pages!\n",
    "\n",
    "(1) https://www.seleniumhq.org/"
   ]
  },
  {
   "cell_type": "markdown",
   "metadata": {},
   "source": [
    "<a id='#package'></a>\n",
    "\n",
    "### The Selenium package\n",
    "\n",
    "The Selenium Webdriver allows us to fetch webpages which we can control through remote operations (via the Python code which we'll write). The first steps in running Selenium are to\n",
    "\n",
    "* **Install Selenium (in your envirnonment)**\n",
    "* **Install Selenium Web Driver**\n",
    "\n",
    "(http://selenium-python.readthedocs.io/installation.html)\n",
    "\n",
    "Try following the directions listed in the link above and make sure that you're webrowser corresponds to the supported version listed in the webdriver download links. The latest version should be clearly denoted:\n",
    "\n",
    "http://selenium-python.readthedocs.io/installation.html"
   ]
  },
  {
   "cell_type": "markdown",
   "metadata": {},
   "source": [
    "<a id='#example'></a>\n",
    "### Let's Start a Webscraping Example\n",
    "\n",
    "The first thing we need to do is import the relevant packages for our project. These packages are the following: \n",
    "\n",
    "* **re** - the regular expressions package for evaluating strings \n",
    "* **pandas** - this is a fundamental package for formatting and evaluating data \n",
    "* **webdriver** - this is the headless browser which will receive our commands and parse webpages"
   ]
  },
  {
   "cell_type": "code",
   "execution_count": 1,
   "metadata": {
    "collapsed": true
   },
   "outputs": [],
   "source": [
    "import re\n",
    "import time\n",
    "import pandas as pd\n",
    "from selenium import webdriver\n",
    "from selenium.webdriver.common.keys import Keys"
   ]
  },
  {
   "cell_type": "markdown",
   "metadata": {},
   "source": [
    "<a id='#browser'></a>\n",
    "First let's call the **webdriver** (Firefox in my case) and instantiate the web browser"
   ]
  },
  {
   "cell_type": "code",
   "execution_count": 10,
   "metadata": {
    "collapsed": true
   },
   "outputs": [],
   "source": [
    "website = 'https://www.rottentomatoes.com/'\n",
    "driver = webdriver.Firefox()\n",
    "driver.get(website)"
   ]
  },
  {
   "cell_type": "markdown",
   "metadata": {},
   "source": [
    "We can now tab to the browser we created and see that we are on the Rotten Tomatoe's website! The goal of this project is going to be to finish something we were unable to do with Beautiful Soup:\n",
    "\n",
    "1. Follow links for each sub-section and click on the **\"view all\"** button to load the remainder of the movies\n",
    "2. Scroll down the page to to allow the HTML to load so that we can grab all of the movies on the page"
   ]
  },
  {
   "cell_type": "markdown",
   "metadata": {
    "collapsed": true
   },
   "source": [
    "<a id='#find_elements'></a>\n",
    "\n",
    "So to start, let's grab each of the **\"view all\"** buttons on the webpage. Selenium has a number of options for us to locate elements. Just a few of these are:\n",
    "\n",
    "For grabbing individual items on a page (the first item in the HTML tree):\n",
    "\n",
    "* *find_element_by_id*\n",
    "* *find_element_by_name*\n",
    "* *find_element_by_xpath*\n",
    "* *find_element_by_link_text*\n",
    "* *find_element_by_partial_link_text*\n",
    "* *find_element_by_tag_name*\n",
    "* *find_element_by_class_name*\n",
    "* *find_element_by_css_selector*\n",
    "\n",
    "For grabbing multiple items on a page (returns a list of the items selected):\n",
    "\n",
    "* *find_elements_by_id*\n",
    "* *find_elements_by_name*\n",
    "* *find_elements_by_xpath*\n",
    "* *find_elements_by_link_text*\n",
    "* *find_elements_by_partial_link_text*\n",
    "* *find_elements_by_tag_name*\n",
    "* *find_elements_by_class_name*\n",
    "* *find_elements_by_css_selector*\n",
    "\n",
    "Ref: https://selenium-python.readthedocs.io/locating-elements.html "
   ]
  },
  {
   "cell_type": "code",
   "execution_count": 11,
   "metadata": {},
   "outputs": [
    {
     "name": "stdout",
     "output_type": "stream",
     "text": [
      "<selenium.webdriver.firefox.webelement.FirefoxWebElement (session=\"c3924412-7c76-8247-beff-cbc79755f475\", element=\"f7b8c2dc-3030-3a44-b982-b764bd2192ff\")>\n",
      "<selenium.webdriver.firefox.webelement.FirefoxWebElement (session=\"c3924412-7c76-8247-beff-cbc79755f475\", element=\"f7b8c2dc-3030-3a44-b982-b764bd2192ff\")>\n"
     ]
    }
   ],
   "source": [
    "#We can find the first \"view all\" button by searching for the driver id\n",
    "print(driver.find_element_by_id('Top-Box-Office-view-all'))\n",
    "#We can also find it by searching x-path\n",
    "print(driver.find_element_by_xpath(\"//a[@id='Top-Box-Office-view-all']\"))\n",
    "button = driver.find_element_by_id('Top-Box-Office-view-all')"
   ]
  },
  {
   "cell_type": "markdown",
   "metadata": {},
   "source": [
    "<a id='#click_scroll'></a>\n",
    "Now we can **click** our button to follow the link to the next page and examine all the data:"
   ]
  },
  {
   "cell_type": "code",
   "execution_count": 12,
   "metadata": {
    "collapsed": true
   },
   "outputs": [],
   "source": [
    "button.click()"
   ]
  },
  {
   "cell_type": "markdown",
   "metadata": {},
   "source": [
    "Now if we look at the webpage, we see that not all the movies are loaded yet. We need to scroll down for all the movies to load. Fortunately for us, Selenium has built-in functionality to handle this situation:\n",
    "\n",
    "Ref: https://stackoverflow.com/questions/42982950/how-to-scroll-down-the-page-till-bottomend-page-in-the-selenium-webdriver/42983332 <br>\n",
    "Ref: https://stackoverflow.com/questions/22702277/crawl-site-that-has-infinite-scrolling-using-python"
   ]
  },
  {
   "cell_type": "code",
   "execution_count": 13,
   "metadata": {
    "collapsed": true
   },
   "outputs": [],
   "source": [
    "driver.execute_script(\"window.scrollTo(0, document.body.scrollHeight);\")"
   ]
  },
  {
   "cell_type": "markdown",
   "metadata": {},
   "source": [
    "Now that we are on the webpage and have scrolled to the bottom of the page (to make sure all our data is loaded), we will grab the data for all the movies on the page and store it in a **CSV** file"
   ]
  },
  {
   "cell_type": "code",
   "execution_count": 14,
   "metadata": {
    "collapsed": true
   },
   "outputs": [],
   "source": [
    "movies = driver.find_elements_by_class_name('mb-movie')"
   ]
  },
  {
   "cell_type": "markdown",
   "metadata": {},
   "source": [
    "Now let's save our movie data to a CSV file so we can review it"
   ]
  },
  {
   "cell_type": "code",
   "execution_count": 15,
   "metadata": {},
   "outputs": [
    {
     "name": "stdout",
     "output_type": "stream",
     "text": [
      "The House With A Clock In Its Walls\n",
      "In Theaters Sep 21\n",
      "67%\n",
      "A Simple Favor\n",
      "In Theaters Sep 14\n",
      "84%\n",
      "The Nun\n",
      "In Theaters Sep 7\n",
      "27%\n",
      "The Predator\n",
      "In Theaters Sep 14\n",
      "34%\n",
      "Crazy Rich Asians\n",
      "In Theaters Aug 15\n",
      "93%\n",
      "White Boy Rick\n",
      "In Theaters Sep 14\n",
      "59%\n",
      "Peppermint\n",
      "In Theaters Sep 7\n",
      "11%\n",
      "Fahrenheit 11/9\n",
      "In Theaters Sep 21\n",
      "77%\n",
      "The Meg\n",
      "In Theaters Aug 10\n",
      "46%\n",
      "Searching\n",
      "In Theaters Aug 31\n",
      "93%\n",
      "Life Itself\n",
      "In Theaters Sep 21\n",
      "11%\n",
      "Unbroken: Path To Redemption\n",
      "In Theaters Sep 14\n",
      "26%\n",
      "Mission: Impossible - Fallout\n",
      "In Theaters Jul 27\n",
      "97%\n",
      "Christopher Robin\n",
      "In Theaters Aug 3\n",
      "71%\n",
      "Assassination Nation\n",
      "In Theaters Sep 21\n",
      "67%\n",
      "The Wife\n",
      "In Theaters Aug 17\n",
      "85%\n",
      "BlacKkKlansman\n",
      "In Theaters Aug 10\n",
      "95%\n",
      "Hotel Transylvania 3: Summer Vacation\n",
      "In Theaters Jul 13\n",
      "59%\n",
      "Incredibles 2\n",
      "In Theaters Jun 15\n",
      "94%\n",
      "Alpha\n",
      "In Theaters Aug 17\n",
      "81%\n",
      "Operation Finale\n",
      "In Theaters Aug 29\n",
      "59%\n",
      "Mamma Mia! Here We Go Again\n",
      "In Theaters Jul 20\n",
      "80%\n",
      "Ant-Man And The Wasp\n",
      "In Theaters Jul 6\n",
      "88%\n",
      "Lizzie\n",
      "In Theaters Sep 14\n",
      "67%\n",
      "Jurassic World: Fallen Kingdom\n",
      "In Theaters Jun 22\n",
      "49%\n",
      "Love, Gilda\n",
      "In Theaters Sep 21\n",
      "84%\n",
      "Colette\n",
      "In Theaters Sep 21\n",
      "89%\n",
      "Batti Gul Meter Chalu\n",
      "In Theaters Sep 21\n",
      "14%\n",
      "Ya Veremos\n",
      "In Theaters Aug 31\n",
      "0%\n",
      "The Great Battle\n",
      "In Theaters Sep 21\n",
      "Juliet, Naked\n",
      "In Theaters Aug 17\n",
      "81%\n",
      "Husband Material (Manmarziyaan)\n",
      "In Theaters\n",
      "80%\n"
     ]
    }
   ],
   "source": [
    "titles = []\n",
    "dates = []\n",
    "scores= []\n",
    "for movie in movies:\n",
    "    print(movie.find_element_by_class_name('movieTitle').text)\n",
    "    print(movie.find_element_by_class_name('release-date').text)\n",
    "    titles.append(movie.find_element_by_class_name('movieTitle').text)\n",
    "    dates.append(movie.find_element_by_class_name('release-date').text)\n",
    "    try:\n",
    "        print(movie.find_element_by_class_name('tMeterScore').text)\n",
    "        scores.append(movie.find_element_by_class_name('tMeterScore').text)\n",
    "    except:\n",
    "        scores.append(None)\n",
    "pd.DataFrame({'Title':titles, 'Dates': dates, 'Score': scores}).to_csv(driver.find_element_by_class_name('main-column-item').text + '.csv')"
   ]
  },
  {
   "cell_type": "markdown",
   "metadata": {},
   "source": [
    "Finally, let's go back to the previous webpage so that we can scrape the rest of the data from the Rotten Tomatoes website"
   ]
  },
  {
   "cell_type": "code",
   "execution_count": 17,
   "metadata": {
    "collapsed": true
   },
   "outputs": [],
   "source": [
    "driver.back()"
   ]
  },
  {
   "cell_type": "markdown",
   "metadata": {},
   "source": [
    "<a id='#scrolling_example'></a>\n",
    "\n",
    "### Selenium Scrolling\n",
    "\n",
    "Most webpages that we need to gather data from are not created to assist us in our web crawling tasks. As such, properly scrolling a website is frequently used functionality Here we have **Example** code that demonstrates how one might scroll to the bottom of a webpage that loads dynamically.\n",
    "\n",
    "We'll demonstrate on a supermarket website with digital coupons. Take a look at the website in your browswe and inspect the elements. There are several aspects of the website that need to be accounted for:\n",
    "\n",
    "1. The \"Load More\" button\n",
    "2. Scrolling to the bottom of the page\n",
    "\n",
    "We'll handle each of these..."
   ]
  },
  {
   "cell_type": "code",
   "execution_count": 21,
   "metadata": {
    "collapsed": true
   },
   "outputs": [],
   "source": [
    "website_scroll = 'https://www.publix.com/savings/coupons/digital-coupons'\n",
    "driver_scroll = webdriver.Firefox()\n",
    "driver_scroll.get(website_scroll)"
   ]
  },
  {
   "cell_type": "markdown",
   "metadata": {},
   "source": [
    "Did the entire page load? If not, how many objects loaded?\n",
    "\n",
    "As we see here by looking at the length of all the objects collected, only a subset of all the coupons are currently loaded. In order to get all the coupon info, we'll need to scroll down and click the **\"Load More\"** button, and then continue to scroll until the entire page is loaded."
   ]
  },
  {
   "cell_type": "code",
   "execution_count": 22,
   "metadata": {},
   "outputs": [
    {
     "data": {
      "text/plain": [
       "30"
      ]
     },
     "execution_count": 22,
     "metadata": {},
     "output_type": "execute_result"
    }
   ],
   "source": [
    "len(driver_scroll.find_elements_by_xpath(\"//div[@class='dc-card']\"))"
   ]
  },
  {
   "cell_type": "markdown",
   "metadata": {},
   "source": [
    "First let's define the **\"Load More\"** object. We declare it using x-path, and then we'll execute a Java command to scroll down the page until we find that element"
   ]
  },
  {
   "cell_type": "code",
   "execution_count": 23,
   "metadata": {
    "collapsed": true
   },
   "outputs": [],
   "source": [
    "element = driver_scroll.find_element_by_xpath(\"//button[@class='btn btn-large js-btnLoadCoupons']\")\n",
    "driver_scroll.execute_script(\"arguments[0].scrollIntoView();\", element)"
   ]
  },
  {
   "cell_type": "markdown",
   "metadata": {},
   "source": [
    "Next click the **element** to load the rest of the objects on the page"
   ]
  },
  {
   "cell_type": "code",
   "execution_count": 24,
   "metadata": {
    "collapsed": true
   },
   "outputs": [],
   "source": [
    "element.click()"
   ]
  },
  {
   "cell_type": "markdown",
   "metadata": {},
   "source": [
    "Now that we've clicked **Load More**, let's see how many objects there are. Lot's more than 30! Now we'll scroll to the bottom of the page and collect the data for all of these coupons"
   ]
  },
  {
   "cell_type": "code",
   "execution_count": 25,
   "metadata": {},
   "outputs": [
    {
     "data": {
      "text/plain": [
       "153"
      ]
     },
     "execution_count": 25,
     "metadata": {},
     "output_type": "execute_result"
    }
   ],
   "source": [
    "len(driver_scroll.find_elements_by_xpath(\"//div[@class='dc-card']\"))"
   ]
  },
  {
   "cell_type": "markdown",
   "metadata": {},
   "source": [
    "The **Keys** class in Selenium provide keys in the keyboard like RETURN, F1, ALT etc.\n",
    "\n",
    "With this code, I am setting the new object to the old object (coupon on the page). While there exists a new object to be set, I will leverage the **\"send_keys\"** function in the **Keys** class and pass an argument to **PAGE_DOWN**. \n",
    "\n",
    "The result will be that while I step through each coupon object on the page, I only scroll until there are no more objects, at which point I stop. \n",
    "\n",
    "Ref: https://selenium-python.readthedocs.io/getting-started.html "
   ]
  },
  {
   "cell_type": "code",
   "execution_count": 26,
   "metadata": {},
   "outputs": [
    {
     "name": "stdout",
     "output_type": "stream",
     "text": [
      "<selenium.webdriver.firefox.webelement.FirefoxWebElement (session=\"e61241d9-86d3-2a43-8cae-1b207f1339a7\", element=\"385e4b5c-c598-514f-87f5-5b60e657ca7e\")>\n",
      "<selenium.webdriver.firefox.webelement.FirefoxWebElement (session=\"e61241d9-86d3-2a43-8cae-1b207f1339a7\", element=\"c30b70a1-2629-b448-bbd5-105b1da68381\")>\n",
      "<selenium.webdriver.firefox.webelement.FirefoxWebElement (session=\"e61241d9-86d3-2a43-8cae-1b207f1339a7\", element=\"65c9931e-78e7-f543-83ba-ead4e97f286d\")>\n",
      "<selenium.webdriver.firefox.webelement.FirefoxWebElement (session=\"e61241d9-86d3-2a43-8cae-1b207f1339a7\", element=\"1aad7dba-9cf0-0a4e-94ed-6f7e99ad8ef4\")>\n",
      "<selenium.webdriver.firefox.webelement.FirefoxWebElement (session=\"e61241d9-86d3-2a43-8cae-1b207f1339a7\", element=\"95749297-3d7b-5444-9e28-71b27421ed31\")>\n",
      "<selenium.webdriver.firefox.webelement.FirefoxWebElement (session=\"e61241d9-86d3-2a43-8cae-1b207f1339a7\", element=\"56e4fc60-73f8-354e-9324-52bd129acfa2\")>\n",
      "<selenium.webdriver.firefox.webelement.FirefoxWebElement (session=\"e61241d9-86d3-2a43-8cae-1b207f1339a7\", element=\"0f408166-16c2-3c48-ba5d-5fc2f28a90d7\")>\n",
      "<selenium.webdriver.firefox.webelement.FirefoxWebElement (session=\"e61241d9-86d3-2a43-8cae-1b207f1339a7\", element=\"8270cf67-1878-7644-88a4-e38811659aaf\")>\n",
      "<selenium.webdriver.firefox.webelement.FirefoxWebElement (session=\"e61241d9-86d3-2a43-8cae-1b207f1339a7\", element=\"c67258a4-69fb-9f43-8a86-e988fd890cc3\")>\n",
      "<selenium.webdriver.firefox.webelement.FirefoxWebElement (session=\"e61241d9-86d3-2a43-8cae-1b207f1339a7\", element=\"2a2eb3f6-b112-834c-bfc8-2a472ac97cfa\")>\n",
      "<selenium.webdriver.firefox.webelement.FirefoxWebElement (session=\"e61241d9-86d3-2a43-8cae-1b207f1339a7\", element=\"701e0ad2-63e3-9249-9229-e1a718fcb8cd\")>\n",
      "<selenium.webdriver.firefox.webelement.FirefoxWebElement (session=\"e61241d9-86d3-2a43-8cae-1b207f1339a7\", element=\"13543482-550b-324f-9211-1d7de533c31a\")>\n",
      "<selenium.webdriver.firefox.webelement.FirefoxWebElement (session=\"e61241d9-86d3-2a43-8cae-1b207f1339a7\", element=\"76d0ee16-bf72-b346-a613-b295d3f306d2\")>\n",
      "<selenium.webdriver.firefox.webelement.FirefoxWebElement (session=\"e61241d9-86d3-2a43-8cae-1b207f1339a7\", element=\"428afb48-81ae-d242-9b0d-5b1a2f71d213\")>\n",
      "<selenium.webdriver.firefox.webelement.FirefoxWebElement (session=\"e61241d9-86d3-2a43-8cae-1b207f1339a7\", element=\"d35578d6-0afd-b346-a930-54175f150504\")>\n",
      "<selenium.webdriver.firefox.webelement.FirefoxWebElement (session=\"e61241d9-86d3-2a43-8cae-1b207f1339a7\", element=\"f91da9bd-9426-0a4e-b305-b798c5d2e5d8\")>\n",
      "<selenium.webdriver.firefox.webelement.FirefoxWebElement (session=\"e61241d9-86d3-2a43-8cae-1b207f1339a7\", element=\"27bd8e21-bc2a-5547-bcc7-65c65430d96d\")>\n",
      "<selenium.webdriver.firefox.webelement.FirefoxWebElement (session=\"e61241d9-86d3-2a43-8cae-1b207f1339a7\", element=\"8e619329-cbab-1c46-85df-c5b0d19ae190\")>\n",
      "<selenium.webdriver.firefox.webelement.FirefoxWebElement (session=\"e61241d9-86d3-2a43-8cae-1b207f1339a7\", element=\"eb190f31-6d15-424e-9072-d4c6b223b95f\")>\n",
      "<selenium.webdriver.firefox.webelement.FirefoxWebElement (session=\"e61241d9-86d3-2a43-8cae-1b207f1339a7\", element=\"0934a99b-4965-3a4f-8e91-a67ffe740644\")>\n",
      "<selenium.webdriver.firefox.webelement.FirefoxWebElement (session=\"e61241d9-86d3-2a43-8cae-1b207f1339a7\", element=\"b1234fe6-8145-e34b-b733-16d6d0f078f9\")>\n",
      "<selenium.webdriver.firefox.webelement.FirefoxWebElement (session=\"e61241d9-86d3-2a43-8cae-1b207f1339a7\", element=\"a5bb8082-3d02-b24a-a9e5-1322cc3059a1\")>\n",
      "<selenium.webdriver.firefox.webelement.FirefoxWebElement (session=\"e61241d9-86d3-2a43-8cae-1b207f1339a7\", element=\"d32aaa7e-e0cc-db4f-a414-29d95b16b101\")>\n",
      "<selenium.webdriver.firefox.webelement.FirefoxWebElement (session=\"e61241d9-86d3-2a43-8cae-1b207f1339a7\", element=\"1743d64f-004d-a94c-b8ee-d0f18900af96\")>\n",
      "<selenium.webdriver.firefox.webelement.FirefoxWebElement (session=\"e61241d9-86d3-2a43-8cae-1b207f1339a7\", element=\"c8ba4693-577b-0746-879f-0110c6f14485\")>\n",
      "<selenium.webdriver.firefox.webelement.FirefoxWebElement (session=\"e61241d9-86d3-2a43-8cae-1b207f1339a7\", element=\"44c7fc4f-e610-7b41-a3ce-9ce5e11e13ff\")>\n",
      "<selenium.webdriver.firefox.webelement.FirefoxWebElement (session=\"e61241d9-86d3-2a43-8cae-1b207f1339a7\", element=\"9307ca9c-c8f4-2a4d-9b68-8e616c964b50\")>\n",
      "<selenium.webdriver.firefox.webelement.FirefoxWebElement (session=\"e61241d9-86d3-2a43-8cae-1b207f1339a7\", element=\"4f5232d6-e0ea-d24c-a55c-4ec9a9fdd325\")>\n",
      "<selenium.webdriver.firefox.webelement.FirefoxWebElement (session=\"e61241d9-86d3-2a43-8cae-1b207f1339a7\", element=\"10088b9d-e978-ce4b-8766-e53fbf4a8fac\")>\n",
      "<selenium.webdriver.firefox.webelement.FirefoxWebElement (session=\"e61241d9-86d3-2a43-8cae-1b207f1339a7\", element=\"19ce2f83-4b31-d046-aa72-febdb86d8171\")>\n",
      "<selenium.webdriver.firefox.webelement.FirefoxWebElement (session=\"e61241d9-86d3-2a43-8cae-1b207f1339a7\", element=\"cd238cbc-9731-184f-9dd5-bb49d7ce74e0\")>\n",
      "<selenium.webdriver.firefox.webelement.FirefoxWebElement (session=\"e61241d9-86d3-2a43-8cae-1b207f1339a7\", element=\"883c82f8-cd44-bf48-9d05-816a7b20b43f\")>\n",
      "<selenium.webdriver.firefox.webelement.FirefoxWebElement (session=\"e61241d9-86d3-2a43-8cae-1b207f1339a7\", element=\"785d99f2-3587-2a4a-918e-b463ea29264f\")>\n",
      "<selenium.webdriver.firefox.webelement.FirefoxWebElement (session=\"e61241d9-86d3-2a43-8cae-1b207f1339a7\", element=\"59502982-01bd-ea47-8ee7-af735e023286\")>\n",
      "<selenium.webdriver.firefox.webelement.FirefoxWebElement (session=\"e61241d9-86d3-2a43-8cae-1b207f1339a7\", element=\"6586611b-73c9-a04a-929a-5b436dd23fb8\")>\n",
      "<selenium.webdriver.firefox.webelement.FirefoxWebElement (session=\"e61241d9-86d3-2a43-8cae-1b207f1339a7\", element=\"8dc3a12f-c75b-c845-a534-965bac16a15d\")>\n",
      "<selenium.webdriver.firefox.webelement.FirefoxWebElement (session=\"e61241d9-86d3-2a43-8cae-1b207f1339a7\", element=\"8c2b6faf-be74-624a-8914-14d548fe71cc\")>\n",
      "<selenium.webdriver.firefox.webelement.FirefoxWebElement (session=\"e61241d9-86d3-2a43-8cae-1b207f1339a7\", element=\"2362a8f4-b3b1-8c40-8d50-3c45941a1831\")>\n",
      "<selenium.webdriver.firefox.webelement.FirefoxWebElement (session=\"e61241d9-86d3-2a43-8cae-1b207f1339a7\", element=\"b078c3e6-93db-694f-8a0a-6ad807f2ca26\")>\n",
      "<selenium.webdriver.firefox.webelement.FirefoxWebElement (session=\"e61241d9-86d3-2a43-8cae-1b207f1339a7\", element=\"c01c9e9e-97e1-4843-a20c-c42ed5be7e80\")>\n",
      "<selenium.webdriver.firefox.webelement.FirefoxWebElement (session=\"e61241d9-86d3-2a43-8cae-1b207f1339a7\", element=\"52235e74-c5b8-2148-93b8-57e9c2a2a8e6\")>\n",
      "<selenium.webdriver.firefox.webelement.FirefoxWebElement (session=\"e61241d9-86d3-2a43-8cae-1b207f1339a7\", element=\"16aab367-7f53-764f-b9a9-9cb24d774c7d\")>\n",
      "<selenium.webdriver.firefox.webelement.FirefoxWebElement (session=\"e61241d9-86d3-2a43-8cae-1b207f1339a7\", element=\"c8e69928-898f-994b-8b0b-50c93d9a8bee\")>\n",
      "<selenium.webdriver.firefox.webelement.FirefoxWebElement (session=\"e61241d9-86d3-2a43-8cae-1b207f1339a7\", element=\"9b4540a1-9579-804c-8b28-6b0ccf0018fd\")>\n",
      "<selenium.webdriver.firefox.webelement.FirefoxWebElement (session=\"e61241d9-86d3-2a43-8cae-1b207f1339a7\", element=\"380799d9-77f2-bc42-a94c-a320bc0335ee\")>\n",
      "<selenium.webdriver.firefox.webelement.FirefoxWebElement (session=\"e61241d9-86d3-2a43-8cae-1b207f1339a7\", element=\"b6c0b8df-bb34-5546-b2eb-64ac1e1f731f\")>\n",
      "<selenium.webdriver.firefox.webelement.FirefoxWebElement (session=\"e61241d9-86d3-2a43-8cae-1b207f1339a7\", element=\"7546cdc1-b241-664b-b735-ebf2f91615e0\")>\n",
      "<selenium.webdriver.firefox.webelement.FirefoxWebElement (session=\"e61241d9-86d3-2a43-8cae-1b207f1339a7\", element=\"79036c77-4f99-9248-9fa4-5d269952a1a7\")>\n",
      "<selenium.webdriver.firefox.webelement.FirefoxWebElement (session=\"e61241d9-86d3-2a43-8cae-1b207f1339a7\", element=\"33638b38-1124-4944-b9f3-78e1d55e90b2\")>\n",
      "<selenium.webdriver.firefox.webelement.FirefoxWebElement (session=\"e61241d9-86d3-2a43-8cae-1b207f1339a7\", element=\"17066105-0c6c-8240-972a-fffa9fdd692a\")>\n",
      "<selenium.webdriver.firefox.webelement.FirefoxWebElement (session=\"e61241d9-86d3-2a43-8cae-1b207f1339a7\", element=\"6d69e4fc-6360-1d4b-9ab9-57071fbd57d7\")>\n",
      "<selenium.webdriver.firefox.webelement.FirefoxWebElement (session=\"e61241d9-86d3-2a43-8cae-1b207f1339a7\", element=\"d8425c15-1edb-3043-bce0-e2fb05109d45\")>\n",
      "<selenium.webdriver.firefox.webelement.FirefoxWebElement (session=\"e61241d9-86d3-2a43-8cae-1b207f1339a7\", element=\"3d8cf6ae-6b48-4a47-9cf4-08a9b1f821ef\")>\n"
     ]
    },
    {
     "name": "stdout",
     "output_type": "stream",
     "text": [
      "<selenium.webdriver.firefox.webelement.FirefoxWebElement (session=\"e61241d9-86d3-2a43-8cae-1b207f1339a7\", element=\"0307b124-5f21-ab4f-b3ff-d2cb228eaf18\")>\n",
      "<selenium.webdriver.firefox.webelement.FirefoxWebElement (session=\"e61241d9-86d3-2a43-8cae-1b207f1339a7\", element=\"d8cfeb26-648d-9347-b31c-7a067dec9fad\")>\n",
      "<selenium.webdriver.firefox.webelement.FirefoxWebElement (session=\"e61241d9-86d3-2a43-8cae-1b207f1339a7\", element=\"2aac2f27-a6f9-f94f-9c09-5364b33af1a9\")>\n",
      "<selenium.webdriver.firefox.webelement.FirefoxWebElement (session=\"e61241d9-86d3-2a43-8cae-1b207f1339a7\", element=\"3e35bfaa-a5e7-704d-a24f-265b06d2c7ca\")>\n",
      "<selenium.webdriver.firefox.webelement.FirefoxWebElement (session=\"e61241d9-86d3-2a43-8cae-1b207f1339a7\", element=\"03d35c9c-b2eb-2242-bdf8-bd5cda0806c6\")>\n",
      "<selenium.webdriver.firefox.webelement.FirefoxWebElement (session=\"e61241d9-86d3-2a43-8cae-1b207f1339a7\", element=\"71d62e0c-6f6f-0841-85e8-488ce3174817\")>\n",
      "<selenium.webdriver.firefox.webelement.FirefoxWebElement (session=\"e61241d9-86d3-2a43-8cae-1b207f1339a7\", element=\"03f48037-a17f-e849-9a5b-f407d3b96d7a\")>\n",
      "<selenium.webdriver.firefox.webelement.FirefoxWebElement (session=\"e61241d9-86d3-2a43-8cae-1b207f1339a7\", element=\"72107d66-b93e-aa46-b776-34a6d68d7486\")>\n",
      "<selenium.webdriver.firefox.webelement.FirefoxWebElement (session=\"e61241d9-86d3-2a43-8cae-1b207f1339a7\", element=\"47987328-ca76-b841-b821-befbd000366a\")>\n",
      "<selenium.webdriver.firefox.webelement.FirefoxWebElement (session=\"e61241d9-86d3-2a43-8cae-1b207f1339a7\", element=\"7d7c8a50-e704-5f49-af07-0ee786fc761f\")>\n",
      "<selenium.webdriver.firefox.webelement.FirefoxWebElement (session=\"e61241d9-86d3-2a43-8cae-1b207f1339a7\", element=\"07ebb843-0bad-0a48-b87b-d14e12c6a09b\")>\n",
      "<selenium.webdriver.firefox.webelement.FirefoxWebElement (session=\"e61241d9-86d3-2a43-8cae-1b207f1339a7\", element=\"7e1e6da1-e098-6c4e-a4b1-9c597317ff14\")>\n",
      "<selenium.webdriver.firefox.webelement.FirefoxWebElement (session=\"e61241d9-86d3-2a43-8cae-1b207f1339a7\", element=\"e714eef0-6379-8548-9a89-38586a8b6619\")>\n",
      "<selenium.webdriver.firefox.webelement.FirefoxWebElement (session=\"e61241d9-86d3-2a43-8cae-1b207f1339a7\", element=\"a85921cc-166c-a645-b7d5-5c774a3fb439\")>\n",
      "<selenium.webdriver.firefox.webelement.FirefoxWebElement (session=\"e61241d9-86d3-2a43-8cae-1b207f1339a7\", element=\"54799a1c-6814-a946-998d-a2316da9cb61\")>\n",
      "<selenium.webdriver.firefox.webelement.FirefoxWebElement (session=\"e61241d9-86d3-2a43-8cae-1b207f1339a7\", element=\"cbf3fa8a-d1ed-b945-8b2d-323ad40e781f\")>\n",
      "<selenium.webdriver.firefox.webelement.FirefoxWebElement (session=\"e61241d9-86d3-2a43-8cae-1b207f1339a7\", element=\"de8e3344-3a56-d74d-ad98-6f2a04c6767f\")>\n",
      "<selenium.webdriver.firefox.webelement.FirefoxWebElement (session=\"e61241d9-86d3-2a43-8cae-1b207f1339a7\", element=\"8b87075a-28f1-714a-b9fa-80c9d4b29652\")>\n",
      "<selenium.webdriver.firefox.webelement.FirefoxWebElement (session=\"e61241d9-86d3-2a43-8cae-1b207f1339a7\", element=\"e6685265-a67e-454f-b470-415d473155c5\")>\n",
      "<selenium.webdriver.firefox.webelement.FirefoxWebElement (session=\"e61241d9-86d3-2a43-8cae-1b207f1339a7\", element=\"2abc4187-b0a2-7b42-9a0b-5e02701b59c9\")>\n",
      "<selenium.webdriver.firefox.webelement.FirefoxWebElement (session=\"e61241d9-86d3-2a43-8cae-1b207f1339a7\", element=\"ebad1665-a294-354f-98a3-54112143a7d3\")>\n",
      "<selenium.webdriver.firefox.webelement.FirefoxWebElement (session=\"e61241d9-86d3-2a43-8cae-1b207f1339a7\", element=\"8bfeca9e-b395-814e-98fc-a9e149292833\")>\n",
      "<selenium.webdriver.firefox.webelement.FirefoxWebElement (session=\"e61241d9-86d3-2a43-8cae-1b207f1339a7\", element=\"13587a6f-6bb2-804c-90b1-078c425ed0b2\")>\n",
      "<selenium.webdriver.firefox.webelement.FirefoxWebElement (session=\"e61241d9-86d3-2a43-8cae-1b207f1339a7\", element=\"3118cf5a-463c-c247-bf8b-3827902831f9\")>\n",
      "<selenium.webdriver.firefox.webelement.FirefoxWebElement (session=\"e61241d9-86d3-2a43-8cae-1b207f1339a7\", element=\"7f21b306-0375-0040-9972-0ee5453efd9d\")>\n",
      "<selenium.webdriver.firefox.webelement.FirefoxWebElement (session=\"e61241d9-86d3-2a43-8cae-1b207f1339a7\", element=\"ef09c34d-e955-df43-b84b-a850df4b27e7\")>\n",
      "<selenium.webdriver.firefox.webelement.FirefoxWebElement (session=\"e61241d9-86d3-2a43-8cae-1b207f1339a7\", element=\"f90dbd69-03cf-4b44-b1e5-a76ca1b4d078\")>\n",
      "<selenium.webdriver.firefox.webelement.FirefoxWebElement (session=\"e61241d9-86d3-2a43-8cae-1b207f1339a7\", element=\"392e5670-38f3-c84b-afdc-210898e432b0\")>\n",
      "<selenium.webdriver.firefox.webelement.FirefoxWebElement (session=\"e61241d9-86d3-2a43-8cae-1b207f1339a7\", element=\"1bc5058f-e716-4348-89cb-976378abf05d\")>\n",
      "<selenium.webdriver.firefox.webelement.FirefoxWebElement (session=\"e61241d9-86d3-2a43-8cae-1b207f1339a7\", element=\"f4c3396e-7b3e-0a46-868b-9818bea76611\")>\n",
      "<selenium.webdriver.firefox.webelement.FirefoxWebElement (session=\"e61241d9-86d3-2a43-8cae-1b207f1339a7\", element=\"bbc32f28-d11f-5b48-9e56-b8fc72b1ce9b\")>\n",
      "<selenium.webdriver.firefox.webelement.FirefoxWebElement (session=\"e61241d9-86d3-2a43-8cae-1b207f1339a7\", element=\"2d83b341-106a-a94b-ada5-399eb80e0355\")>\n",
      "<selenium.webdriver.firefox.webelement.FirefoxWebElement (session=\"e61241d9-86d3-2a43-8cae-1b207f1339a7\", element=\"e1f95a26-a898-0846-8ca9-794a03752700\")>\n",
      "<selenium.webdriver.firefox.webelement.FirefoxWebElement (session=\"e61241d9-86d3-2a43-8cae-1b207f1339a7\", element=\"b66e36d0-c77e-074d-be39-4cb7dce2b08d\")>\n",
      "<selenium.webdriver.firefox.webelement.FirefoxWebElement (session=\"e61241d9-86d3-2a43-8cae-1b207f1339a7\", element=\"3ccd00a2-d0cf-cc47-a13b-978cdcf00cb9\")>\n",
      "<selenium.webdriver.firefox.webelement.FirefoxWebElement (session=\"e61241d9-86d3-2a43-8cae-1b207f1339a7\", element=\"a2a80872-3920-1243-83dc-081fe211f975\")>\n",
      "<selenium.webdriver.firefox.webelement.FirefoxWebElement (session=\"e61241d9-86d3-2a43-8cae-1b207f1339a7\", element=\"928790e8-fcb2-c645-8f91-dd1be4b278b9\")>\n",
      "<selenium.webdriver.firefox.webelement.FirefoxWebElement (session=\"e61241d9-86d3-2a43-8cae-1b207f1339a7\", element=\"7a99892b-d654-a14b-a839-9c3a756ba144\")>\n",
      "<selenium.webdriver.firefox.webelement.FirefoxWebElement (session=\"e61241d9-86d3-2a43-8cae-1b207f1339a7\", element=\"2d7b9f98-9f27-834a-bd57-1881dcd9e9dd\")>\n",
      "<selenium.webdriver.firefox.webelement.FirefoxWebElement (session=\"e61241d9-86d3-2a43-8cae-1b207f1339a7\", element=\"28cf083c-5679-924d-87c9-c0b4ad21fddd\")>\n",
      "<selenium.webdriver.firefox.webelement.FirefoxWebElement (session=\"e61241d9-86d3-2a43-8cae-1b207f1339a7\", element=\"01c457a1-0785-5441-8a6a-99dc5a6115b0\")>\n",
      "<selenium.webdriver.firefox.webelement.FirefoxWebElement (session=\"e61241d9-86d3-2a43-8cae-1b207f1339a7\", element=\"6dd59e11-b540-434b-89d5-694650ee10a6\")>\n",
      "<selenium.webdriver.firefox.webelement.FirefoxWebElement (session=\"e61241d9-86d3-2a43-8cae-1b207f1339a7\", element=\"5c2bf5f1-2547-0e49-9d61-feeed3ff2a11\")>\n",
      "<selenium.webdriver.firefox.webelement.FirefoxWebElement (session=\"e61241d9-86d3-2a43-8cae-1b207f1339a7\", element=\"ed5db260-7eb9-ad4c-828a-a39ccaedea4f\")>\n",
      "<selenium.webdriver.firefox.webelement.FirefoxWebElement (session=\"e61241d9-86d3-2a43-8cae-1b207f1339a7\", element=\"91a54a7b-5471-4249-8916-464a022d9537\")>\n",
      "<selenium.webdriver.firefox.webelement.FirefoxWebElement (session=\"e61241d9-86d3-2a43-8cae-1b207f1339a7\", element=\"2bea5432-e0f9-fd40-8e39-95e5b9b8665b\")>\n",
      "<selenium.webdriver.firefox.webelement.FirefoxWebElement (session=\"e61241d9-86d3-2a43-8cae-1b207f1339a7\", element=\"ddc759aa-6976-574b-bd63-f229813269ed\")>\n",
      "<selenium.webdriver.firefox.webelement.FirefoxWebElement (session=\"e61241d9-86d3-2a43-8cae-1b207f1339a7\", element=\"089a8873-1487-ad4c-a7ea-e57a3bc3d1c0\")>\n",
      "<selenium.webdriver.firefox.webelement.FirefoxWebElement (session=\"e61241d9-86d3-2a43-8cae-1b207f1339a7\", element=\"bb73b7c4-3913-b74e-9862-02342e277142\")>\n",
      "<selenium.webdriver.firefox.webelement.FirefoxWebElement (session=\"e61241d9-86d3-2a43-8cae-1b207f1339a7\", element=\"529c635e-0cd9-484e-903c-c59dc7cfc3fe\")>\n",
      "<selenium.webdriver.firefox.webelement.FirefoxWebElement (session=\"e61241d9-86d3-2a43-8cae-1b207f1339a7\", element=\"b74be868-b64f-c441-a208-cd0292c12220\")>\n",
      "<selenium.webdriver.firefox.webelement.FirefoxWebElement (session=\"e61241d9-86d3-2a43-8cae-1b207f1339a7\", element=\"a226e0ea-4ddb-ff40-9417-7e1eed35a480\")>\n",
      "<selenium.webdriver.firefox.webelement.FirefoxWebElement (session=\"e61241d9-86d3-2a43-8cae-1b207f1339a7\", element=\"f1757efa-d68a-de49-952e-1074e1dd8a6c\")>\n"
     ]
    },
    {
     "name": "stdout",
     "output_type": "stream",
     "text": [
      "<selenium.webdriver.firefox.webelement.FirefoxWebElement (session=\"e61241d9-86d3-2a43-8cae-1b207f1339a7\", element=\"887f0737-1637-7f4c-82a3-f1800616bebf\")>\n",
      "<selenium.webdriver.firefox.webelement.FirefoxWebElement (session=\"e61241d9-86d3-2a43-8cae-1b207f1339a7\", element=\"393fa428-317a-6049-bdee-ee68af0cbb44\")>\n",
      "<selenium.webdriver.firefox.webelement.FirefoxWebElement (session=\"e61241d9-86d3-2a43-8cae-1b207f1339a7\", element=\"b4265ba9-638b-024b-94af-4ad748a323f8\")>\n",
      "<selenium.webdriver.firefox.webelement.FirefoxWebElement (session=\"e61241d9-86d3-2a43-8cae-1b207f1339a7\", element=\"9ea427e9-6a76-4140-8bf9-0c4d98db0089\")>\n",
      "<selenium.webdriver.firefox.webelement.FirefoxWebElement (session=\"e61241d9-86d3-2a43-8cae-1b207f1339a7\", element=\"1098615d-d5ac-9141-8dcd-3f4f6d018e46\")>\n",
      "<selenium.webdriver.firefox.webelement.FirefoxWebElement (session=\"e61241d9-86d3-2a43-8cae-1b207f1339a7\", element=\"5e1e8bd8-b38c-c444-902d-e25ec4c8b020\")>\n",
      "<selenium.webdriver.firefox.webelement.FirefoxWebElement (session=\"e61241d9-86d3-2a43-8cae-1b207f1339a7\", element=\"0291c71e-d9ad-d044-a6ec-1e5bc7cb3b2b\")>\n",
      "<selenium.webdriver.firefox.webelement.FirefoxWebElement (session=\"e61241d9-86d3-2a43-8cae-1b207f1339a7\", element=\"9c4674e0-3b0c-474e-a38f-6f3ba4513586\")>\n",
      "<selenium.webdriver.firefox.webelement.FirefoxWebElement (session=\"e61241d9-86d3-2a43-8cae-1b207f1339a7\", element=\"4e78a462-12ff-6d46-a138-1b050fac9738\")>\n",
      "<selenium.webdriver.firefox.webelement.FirefoxWebElement (session=\"e61241d9-86d3-2a43-8cae-1b207f1339a7\", element=\"64754664-7a80-7d41-8841-3bae502df2e1\")>\n",
      "<selenium.webdriver.firefox.webelement.FirefoxWebElement (session=\"e61241d9-86d3-2a43-8cae-1b207f1339a7\", element=\"ea065912-d0b2-ef46-8804-40ec233bf720\")>\n",
      "<selenium.webdriver.firefox.webelement.FirefoxWebElement (session=\"e61241d9-86d3-2a43-8cae-1b207f1339a7\", element=\"c22534cb-ed18-df47-a59f-e63d403cfe98\")>\n",
      "<selenium.webdriver.firefox.webelement.FirefoxWebElement (session=\"e61241d9-86d3-2a43-8cae-1b207f1339a7\", element=\"5d9c79d6-a0dd-634d-a82a-40881ce6ff93\")>\n",
      "<selenium.webdriver.firefox.webelement.FirefoxWebElement (session=\"e61241d9-86d3-2a43-8cae-1b207f1339a7\", element=\"a1d2a01e-2d97-1f4c-b75b-8d159ab1d083\")>\n",
      "<selenium.webdriver.firefox.webelement.FirefoxWebElement (session=\"e61241d9-86d3-2a43-8cae-1b207f1339a7\", element=\"a94cb191-dc61-0040-a4a6-e7029be8fc8c\")>\n",
      "<selenium.webdriver.firefox.webelement.FirefoxWebElement (session=\"e61241d9-86d3-2a43-8cae-1b207f1339a7\", element=\"9901dd78-ec56-0445-9a53-026639f67e24\")>\n",
      "<selenium.webdriver.firefox.webelement.FirefoxWebElement (session=\"e61241d9-86d3-2a43-8cae-1b207f1339a7\", element=\"b4fc3639-6d01-204e-b8bc-d878f591e9ec\")>\n",
      "<selenium.webdriver.firefox.webelement.FirefoxWebElement (session=\"e61241d9-86d3-2a43-8cae-1b207f1339a7\", element=\"c4e61549-8380-0348-a8db-f7c1fe9125c3\")>\n",
      "<selenium.webdriver.firefox.webelement.FirefoxWebElement (session=\"e61241d9-86d3-2a43-8cae-1b207f1339a7\", element=\"ba0478d7-dc7f-a149-ac5b-df21f7417b89\")>\n",
      "<selenium.webdriver.firefox.webelement.FirefoxWebElement (session=\"e61241d9-86d3-2a43-8cae-1b207f1339a7\", element=\"3f0b7e8a-0114-6043-8b00-5fe0d4a04fe9\")>\n",
      "<selenium.webdriver.firefox.webelement.FirefoxWebElement (session=\"e61241d9-86d3-2a43-8cae-1b207f1339a7\", element=\"fc1f2d06-f0f3-2041-90d4-cb5c7a445c7f\")>\n",
      "<selenium.webdriver.firefox.webelement.FirefoxWebElement (session=\"e61241d9-86d3-2a43-8cae-1b207f1339a7\", element=\"1eb563f5-5c64-7149-97e0-838f9296eb89\")>\n",
      "<selenium.webdriver.firefox.webelement.FirefoxWebElement (session=\"e61241d9-86d3-2a43-8cae-1b207f1339a7\", element=\"cce4308a-7b30-724b-ba6e-2bf8448d973c\")>\n",
      "<selenium.webdriver.firefox.webelement.FirefoxWebElement (session=\"e61241d9-86d3-2a43-8cae-1b207f1339a7\", element=\"e42f8df3-a7b6-b944-be39-47bf5e431da8\")>\n",
      "<selenium.webdriver.firefox.webelement.FirefoxWebElement (session=\"e61241d9-86d3-2a43-8cae-1b207f1339a7\", element=\"7b81bb0c-bca8-1544-86aa-95ec7824e057\")>\n",
      "<selenium.webdriver.firefox.webelement.FirefoxWebElement (session=\"e61241d9-86d3-2a43-8cae-1b207f1339a7\", element=\"505e5609-21f0-5745-ba08-d5414bed43c6\")>\n",
      "<selenium.webdriver.firefox.webelement.FirefoxWebElement (session=\"e61241d9-86d3-2a43-8cae-1b207f1339a7\", element=\"cd2b71ad-469f-b848-a5b0-4e071f4041b6\")>\n",
      "<selenium.webdriver.firefox.webelement.FirefoxWebElement (session=\"e61241d9-86d3-2a43-8cae-1b207f1339a7\", element=\"494b88fb-c591-4b4c-a760-46ef00fd1839\")>\n",
      "<selenium.webdriver.firefox.webelement.FirefoxWebElement (session=\"e61241d9-86d3-2a43-8cae-1b207f1339a7\", element=\"b9579ecb-d6a5-8645-94a0-0c7b6d560bb0\")>\n",
      "<selenium.webdriver.firefox.webelement.FirefoxWebElement (session=\"e61241d9-86d3-2a43-8cae-1b207f1339a7\", element=\"d83752fe-76b7-c743-8e1b-39e7e962ca0c\")>\n",
      "<selenium.webdriver.firefox.webelement.FirefoxWebElement (session=\"e61241d9-86d3-2a43-8cae-1b207f1339a7\", element=\"8cf3c417-d864-dc4c-9156-e4c436438f11\")>\n",
      "<selenium.webdriver.firefox.webelement.FirefoxWebElement (session=\"e61241d9-86d3-2a43-8cae-1b207f1339a7\", element=\"4842f568-385a-624c-a603-52d5080b961e\")>\n",
      "<selenium.webdriver.firefox.webelement.FirefoxWebElement (session=\"e61241d9-86d3-2a43-8cae-1b207f1339a7\", element=\"f6eb31e9-69bf-1448-a651-0415ecc0a461\")>\n",
      "<selenium.webdriver.firefox.webelement.FirefoxWebElement (session=\"e61241d9-86d3-2a43-8cae-1b207f1339a7\", element=\"ee9aaa64-65d5-c84e-88d2-2e03cd62a729\")>\n",
      "<selenium.webdriver.firefox.webelement.FirefoxWebElement (session=\"e61241d9-86d3-2a43-8cae-1b207f1339a7\", element=\"b4b09040-a46e-564c-b2f6-0d4006b3bdbb\")>\n",
      "<selenium.webdriver.firefox.webelement.FirefoxWebElement (session=\"e61241d9-86d3-2a43-8cae-1b207f1339a7\", element=\"72c07391-a672-3d4f-b44a-37f0d7158b43\")>\n",
      "<selenium.webdriver.firefox.webelement.FirefoxWebElement (session=\"e61241d9-86d3-2a43-8cae-1b207f1339a7\", element=\"11612dce-2859-3e44-8303-384d1ffc8ef2\")>\n",
      "<selenium.webdriver.firefox.webelement.FirefoxWebElement (session=\"e61241d9-86d3-2a43-8cae-1b207f1339a7\", element=\"40b658f4-d6ca-9248-8120-aee61c4fd476\")>\n",
      "<selenium.webdriver.firefox.webelement.FirefoxWebElement (session=\"e61241d9-86d3-2a43-8cae-1b207f1339a7\", element=\"3eeb2c5a-53dc-5647-80a1-21aca2f3e289\")>\n",
      "<selenium.webdriver.firefox.webelement.FirefoxWebElement (session=\"e61241d9-86d3-2a43-8cae-1b207f1339a7\", element=\"ec2204b8-12bb-1d42-a7b8-6ebed2a93645\")>\n",
      "<selenium.webdriver.firefox.webelement.FirefoxWebElement (session=\"e61241d9-86d3-2a43-8cae-1b207f1339a7\", element=\"d8a8d776-67f0-d148-bdf8-b56ecfd58897\")>\n",
      "<selenium.webdriver.firefox.webelement.FirefoxWebElement (session=\"e61241d9-86d3-2a43-8cae-1b207f1339a7\", element=\"0fd47cfe-0c7a-ca4d-9c06-50d51d152911\")>\n",
      "<selenium.webdriver.firefox.webelement.FirefoxWebElement (session=\"e61241d9-86d3-2a43-8cae-1b207f1339a7\", element=\"9f5467cc-97db-c548-a2fb-a3354f4ce5d1\")>\n",
      "<selenium.webdriver.firefox.webelement.FirefoxWebElement (session=\"e61241d9-86d3-2a43-8cae-1b207f1339a7\", element=\"ca1c890b-c9a3-4240-adc8-0f093c13778d\")>\n",
      "<selenium.webdriver.firefox.webelement.FirefoxWebElement (session=\"e61241d9-86d3-2a43-8cae-1b207f1339a7\", element=\"1aeda863-a7b2-ce4d-b7eb-e4c8fbfdcfad\")>\n",
      "<selenium.webdriver.firefox.webelement.FirefoxWebElement (session=\"e61241d9-86d3-2a43-8cae-1b207f1339a7\", element=\"31265f34-91e0-bb4d-b9a6-aef7f69fde56\")>\n",
      "<selenium.webdriver.firefox.webelement.FirefoxWebElement (session=\"e61241d9-86d3-2a43-8cae-1b207f1339a7\", element=\"5c320185-a719-a248-9858-23a4c595aeb9\")>\n"
     ]
    }
   ],
   "source": [
    "dc_card = driver_scroll.find_element_by_xpath(\"//div[@class='dc-card']\")\n",
    "\n",
    "while True:\n",
    "    try:\n",
    "        print(dc_card)\n",
    "        #Here I am setting the new dc_card to the sibling of the previous dc-card\n",
    "        #I have to specify exactly which tag I want to use next as the sibling\n",
    "        dc_card = dc_card.find_element_by_xpath(\".//following-sibling::div[@class='dc-card']\")\n",
    "        dc_card.send_keys(Keys.PAGE_DOWN)\n",
    "        time.sleep(3)\n",
    "    except:\n",
    "        break"
   ]
  },
  {
   "cell_type": "markdown",
   "metadata": {},
   "source": [
    "<a id='#links'></a>\n",
    "\n",
    "### Iterate Through All Links\n",
    "\n",
    "Now that we've demonstrated how to **point**, **click** and **scroll** down a webpage, we will now put all these pieces together to iterate through each subsection of the Rotten Tomatoes website, point, click, scroll and collect the data on each of these pages.\n",
    "\n",
    "Let's take it from the top!"
   ]
  },
  {
   "cell_type": "markdown",
   "metadata": {},
   "source": [
    "#### Call the website and create a driver instance like we did previously..."
   ]
  },
  {
   "cell_type": "code",
   "execution_count": 2,
   "metadata": {
    "collapsed": true
   },
   "outputs": [],
   "source": [
    "website = 'https://www.rottentomatoes.com/'\n",
    "driver = webdriver.Firefox()\n",
    "driver.get(website)"
   ]
  },
  {
   "cell_type": "markdown",
   "metadata": {
    "collapsed": true
   },
   "source": [
    "#### Now let's scroll down the page to make sure all our links are loaded"
   ]
  },
  {
   "cell_type": "code",
   "execution_count": 3,
   "metadata": {
    "collapsed": true
   },
   "outputs": [],
   "source": [
    "driver.execute_script(\"window.scrollTo(0, document.body.scrollHeight);\")"
   ]
  },
  {
   "cell_type": "markdown",
   "metadata": {},
   "source": [
    "#### Grab all the \"View All\" objects"
   ]
  },
  {
   "cell_type": "code",
   "execution_count": 6,
   "metadata": {
    "collapsed": true
   },
   "outputs": [],
   "source": [
    "buttons = driver.find_elements_by_class_name('clickForMore')"
   ]
  },
  {
   "cell_type": "markdown",
   "metadata": {},
   "source": [
    "Each of the **\"View All\"** objects have different **id** tag names (1). However if we look at the **div class** parent node (2), we see that all the **class names are \"clickMore\"**. So what we'll do is create a list of all the **\"clickMore\"** objects, and then select the first child node.\n",
    "\n",
    "![title](ViewAll.png)\n",
    "\n",
    "* Once we've selected the correct child nodes, we'll extract the **href** tag, which we can follow to parse the relevant links for our data analysis.\n",
    "\n",
    "* Using a **try-except** statement, we'll search for the the **\"clickMore\"** objects which our scraper can parse, and then export that data to CSV files with the page name"
   ]
  },
  {
   "cell_type": "code",
   "execution_count": 9,
   "metadata": {},
   "outputs": [
    {
     "data": {
      "text/plain": [
       "'/Users/zacharyescalante/Desktop/Github/Zach-Escalante-Code/WebScrapingTutorial'"
      ]
     },
     "execution_count": 9,
     "metadata": {},
     "output_type": "execute_result"
    }
   ],
   "source": [
    "import os\n",
    "os.getcwd()"
   ]
  },
  {
   "cell_type": "code",
   "execution_count": 10,
   "metadata": {
    "scrolled": true
   },
   "outputs": [
    {
     "name": "stdout",
     "output_type": "stream",
     "text": [
      "https://editorial.rottentomatoes.com/total-recall/\n",
      "pass\n",
      "https://editorial.rottentomatoes.com/rt-hubs/\n",
      "pass\n",
      "https://editorial.rottentomatoes.com/news/\n",
      "pass\n",
      "https://www.rottentomatoes.com/browse/opening/\n",
      "OPENING THIS WEEK\n",
      "https://www.rottentomatoes.com/browse/in-theaters/\n",
      "TOP BOX OFFICE\n",
      "WEEKEND BOX OFFICE EARNINGS\n",
      "https://www.rottentomatoes.com/browse/upcoming/\n",
      "COMING SOON\n",
      "https://www.rottentomatoes.com/browse/tv-list-1\n",
      "NEW TV TONIGHT\n",
      "pass\n",
      "https://www.rottentomatoes.com/browse/tv-list-2\n",
      "MOST POPULAR TV ON RT\n",
      "pass\n",
      "https://www.rottentomatoes.com/browse/top-dvd-streaming/\n",
      "TOP DVD & STREAMING\n",
      "https://www.rottentomatoes.com/browse/cf-in-theaters/\n",
      "CERTIFIED FRESH MOVIES\n",
      "WEEKEND BOX OFFICE EARNINGS\n",
      "https://editorial.rottentomatoes.com/video-interviews/\n",
      "pass\n",
      "https://editorial.rottentomatoes.com/news/\n",
      "pass\n",
      "https://editorial.rottentomatoes.com/publications/\n",
      "pass\n"
     ]
    }
   ],
   "source": [
    "#![title](ViewAll.png)\n",
    "for button in buttons:\n",
    "    #Extract the \"href\" element\n",
    "    website = button.find_element_by_xpath(\".//*\").get_attribute(\"href\")\n",
    "    print(website)\n",
    "    driver = webdriver.Firefox()\n",
    "    driver.get(website)\n",
    "    time.sleep(5)\n",
    "    #If the \"clickMore\" object has a 'main-column-item', parse the page\n",
    "    try:\n",
    "        print(driver.find_element_by_class_name('main-column-item').text)\n",
    "        time.sleep(5)\n",
    "        titles = []\n",
    "        dates = []\n",
    "        scores= []\n",
    "        movies = driver.find_elements_by_class_name('mb-movie')\n",
    "        for movie in movies:\n",
    "            titles.append(movie.find_element_by_class_name('movieTitle').text)\n",
    "            dates.append(movie.find_element_by_class_name('release-date').text)\n",
    "            try:\n",
    "                scores.append(movie.find_element_by_class_name('tMeterScore').text)\n",
    "            except:\n",
    "                scores.append(None)\n",
    "        #The 'main-column-item' element is saved as the CSV file name so that we know what data we're looking at\n",
    "        pd.DataFrame({'Title':titles, 'Dates': dates, 'Score': scores}).to_csv(driver.find_element_by_class_name('main-column-item').text + '.csv')\n",
    "    #If the \"clickMore\" object does not have a 'main-column-item', pass\n",
    "    except:\n",
    "        print(\"pass\")\n",
    "    driver.quit()\n",
    "    time.sleep(5)"
   ]
  },
  {
   "cell_type": "markdown",
   "metadata": {},
   "source": [
    "#### Congratulations! \n",
    "\n",
    "You've covered some important concepts for webscraping with **Selenium**, including:\n",
    "\n",
    "* How to install/run headless browsers to automate point-click tasks\n",
    "* Extracting web elements using Selenium\n",
    "* Scrolling and clicking through a webpage\n",
    "* Handling non-trivial websites and scrolling\n",
    "\n",
    "All of these concepts will be very useful. Our next lecture will tie these web-scraping building blocks together with a **faster, cleaner framework (Scrapy)** to run these processes in **parallel**, and provide us the autonomy to run scrapers using all of these tools (plus many more) at **break-neck speed**!"
   ]
  },
  {
   "cell_type": "code",
   "execution_count": null,
   "metadata": {
    "collapsed": true
   },
   "outputs": [],
   "source": []
  }
 ],
 "metadata": {
  "kernelspec": {
   "display_name": "Python 3",
   "language": "python",
   "name": "python3"
  },
  "language_info": {
   "codemirror_mode": {
    "name": "ipython",
    "version": 3
   },
   "file_extension": ".py",
   "mimetype": "text/x-python",
   "name": "python",
   "nbconvert_exporter": "python",
   "pygments_lexer": "ipython3",
   "version": "3.6.3"
  }
 },
 "nbformat": 4,
 "nbformat_minor": 2
}
